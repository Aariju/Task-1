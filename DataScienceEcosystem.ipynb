{
  "metadata": {
    "kernelspec": {
      "name": "python",
      "display_name": "Python (Pyodide)",
      "language": "python"
    },
    "language_info": {
      "codemirror_mode": {
        "name": "python",
        "version": 3
      },
      "file_extension": ".py",
      "mimetype": "text/x-python",
      "name": "python",
      "nbconvert_exporter": "python",
      "pygments_lexer": "ipython3",
      "version": "3.8"
    }
  },
  "nbformat_minor": 4,
  "nbformat": 4,
  "cells": [
    {
      "cell_type": "markdown",
      "source": "# H1:Data Science Tools And Ecosystem",
      "metadata": {}
    },
    {
      "cell_type": "markdown",
      "source": "# H2: Author- Riju Koirala",
      "metadata": {}
    },
    {
      "cell_type": "markdown",
      "source": "# In this notebook, Data Science tools and ecosystem are summarized.",
      "metadata": {}
    },
    {
      "cell_type": "markdown",
      "source": "**Objectives**\n-Python\n-SQL\n-Java\n-R",
      "metadata": {}
    },
    {
      "cell_type": "markdown",
      "source": "# Some of the popular language that data scientists use are:\n1. Python\n2. R\n3. Java\n4. Julia",
      "metadata": {}
    },
    {
      "cell_type": "markdown",
      "source": "# Some of the commonly used libraries used by data scientists are:\n1. Numpy\n2. Pandas\n3. Matplotlib\n4. Visualization",
      "metadata": {}
    },
    {
      "cell_type": "markdown",
      "source": "|  Data Science Tools  |\n|----------------------|\n|    Apache Spark      |\n|    Tensorflow        |\n|    Tableau           |\n",
      "metadata": {}
    },
    {
      "cell_type": "markdown",
      "source": "# H3 : Below are a few examples of evaluating arithmetic expression in python.",
      "metadata": {}
    },
    {
      "cell_type": "code",
      "source": "#This is a simple arithmetic expression to multiply then add a integer.",
      "metadata": {
        "trusted": true
      },
      "outputs": [],
      "execution_count": null
    },
    {
      "cell_type": "code",
      "source": "3 * 4",
      "metadata": {
        "trusted": true
      },
      "outputs": [
        {
          "execution_count": 16,
          "output_type": "execute_result",
          "data": {
            "text/plain": "12"
          },
          "metadata": {}
        }
      ],
      "execution_count": 16
    },
    {
      "cell_type": "code",
      "source": "12 + 5",
      "metadata": {
        "trusted": true
      },
      "outputs": [
        {
          "execution_count": 17,
          "output_type": "execute_result",
          "data": {
            "text/plain": "17"
          },
          "metadata": {}
        }
      ],
      "execution_count": 17
    },
    {
      "cell_type": "code",
      "source": "#This will convert 200 minutes to hours by dividing by 60.",
      "metadata": {
        "trusted": true
      },
      "outputs": [],
      "execution_count": null
    },
    {
      "cell_type": "code",
      "source": "200 / 60",
      "metadata": {
        "trusted": true
      },
      "outputs": [
        {
          "execution_count": 18,
          "output_type": "execute_result",
          "data": {
            "text/plain": "3.3333333333333335"
          },
          "metadata": {}
        }
      ],
      "execution_count": 18
    },
    {
      "cell_type": "markdown",
      "source": "",
      "metadata": {}
    }
  ]
}